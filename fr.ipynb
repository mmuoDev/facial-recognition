{
 "cells": [
  {
   "cell_type": "code",
   "execution_count": 22,
   "metadata": {
    "collapsed": true
   },
   "outputs": [],
   "source": [
    "#import necessary libraries\n",
    "import os\n",
    "import face_recognition"
   ]
  },
  {
   "cell_type": "code",
   "execution_count": 23,
   "metadata": {
    "collapsed": true
   },
   "outputs": [],
   "source": [
    "#list all images in the images folder\n",
    "images = os.listdir('images')\n"
   ]
  },
  {
   "cell_type": "code",
   "execution_count": 24,
   "metadata": {},
   "outputs": [],
   "source": [
    "#load test image\n",
    "test_image = face_recognition.load_image_file('test.jpg')"
   ]
  },
  {
   "cell_type": "code",
   "execution_count": 25,
   "metadata": {
    "collapsed": true
   },
   "outputs": [],
   "source": [
    "#cnvert test image to a feature vector. ML uses numbers. \n",
    "test_image_encoded = face_recognition.face_encodings(test_image)[0]"
   ]
  },
  {
   "cell_type": "code",
   "execution_count": 26,
   "metadata": {},
   "outputs": [
    {
     "name": "stdout",
     "output_type": "stream",
     "text": [
      "Matched: wale.jpg\n"
     ]
    }
   ],
   "source": [
    "#loop through each images\n",
    "for image in images:\n",
    "    #load the image\n",
    "    cimage = face_recognition.load_image_file(\"images/\"+ image)\n",
    "    \n",
    "    #convert loaded image to feature vector\n",
    "    cimage_encoded = face_recognition.face_encodings(cimage)[0]\n",
    "    #check if image matches\n",
    "    result = face_recognition.compare_faces([test_image_encoded], cimage_encoded)\n",
    "    #check if a match\n",
    "    if result[0] == True:\n",
    "        print (\"Matched: \" + image)\n",
    "    #else:\n",
    "        #print (\"Not matched: \" + image)\n",
    "        "
   ]
  },
  {
   "cell_type": "code",
   "execution_count": null,
   "metadata": {
    "collapsed": true
   },
   "outputs": [],
   "source": []
  }
 ],
 "metadata": {
  "kernelspec": {
   "display_name": "Python 3",
   "language": "python",
   "name": "python3"
  },
  "language_info": {
   "codemirror_mode": {
    "name": "ipython",
    "version": 3
   },
   "file_extension": ".py",
   "mimetype": "text/x-python",
   "name": "python",
   "nbconvert_exporter": "python",
   "pygments_lexer": "ipython3",
   "version": "3.6.3"
  }
 },
 "nbformat": 4,
 "nbformat_minor": 2
}
